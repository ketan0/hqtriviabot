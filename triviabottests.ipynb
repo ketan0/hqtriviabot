{
 "cells": [
  {
   "cell_type": "code",
   "execution_count": 34,
   "metadata": {},
   "outputs": [],
   "source": [
    "try:\n",
    "    import Image\n",
    "except ImportError:\n",
    "    from PIL import Image\n",
    "import pytesseract\n",
    "import webbrowser\n",
    "import pyscreenshot as ImageGrab\n",
    "from googleapiclient.discovery import build\n",
    "import pprint\n",
    "import cPickle as pickle\n",
    "from pynput.keyboard import Key, Controller\n",
    "import time\n",
    "import re\n",
    "import tweepy\n",
    "import csv\n",
    "import pandas as pd"
   ]
  },
  {
   "cell_type": "code",
   "execution_count": 23,
   "metadata": {},
   "outputs": [],
   "source": [
    "access_token, access_token_secret = pickle.load(open('token_secret.p', 'rb'))"
   ]
  },
  {
   "cell_type": "code",
   "execution_count": 24,
   "metadata": {},
   "outputs": [],
   "source": [
    "consumer_key, consumer_secret = pickle.load(open('key_secret.p', 'rb'))"
   ]
  },
  {
   "cell_type": "code",
   "execution_count": 26,
   "metadata": {},
   "outputs": [],
   "source": [
    "auth = tweepy.OAuthHandler(consumer_key, consumer_secret)\n",
    "auth.set_access_token(access_token, access_token_secret)\n",
    "\n",
    "api = tweepy.API(auth)\n",
    "\n",
    "# public_tweets = api.home_timeline()\n",
    "# for tweet in public_tweets:\n",
    "#     print tweet.text"
   ]
  },
  {
   "cell_type": "code",
   "execution_count": 32,
   "metadata": {},
   "outputs": [],
   "source": [
    "def get_all_tweets(screen_name):\n",
    "\t#Twitter only allows access to a users most recent 3240 tweets with this method\n",
    "\t\n",
    "\t#authorize twitter, initialize tweepy\n",
    "# \tauth = tweepy.OAuthHandler(consumer_key, consumer_secret)\n",
    "# \tauth.set_access_token(access_key, access_secret)\n",
    "# \tapi = tweepy.API(auth)\n",
    "\t\n",
    "\t#initialize a list to hold all the tweepy Tweets\n",
    "\talltweets = []\t\n",
    "\t\n",
    "\t#make initial request for most recent tweets (200 is the maximum allowed count)\n",
    "\tnew_tweets = api.user_timeline(screen_name = screen_name,count=200)\n",
    "\t\n",
    "\t#save most recent tweets\n",
    "\talltweets.extend(new_tweets)\n",
    "\t\n",
    "\t#save the id of the oldest tweet less one\n",
    "\toldest = alltweets[-1].id - 1\n",
    "\t\n",
    "\t#keep grabbing tweets until there are no tweets left to grab\n",
    "\twhile len(new_tweets) > 0:\n",
    "\t\tprint \"getting tweets before %s\" % (oldest)\n",
    "\t\t\n",
    "\t\t#all subsiquent requests use the max_id param to prevent duplicates\n",
    "\t\tnew_tweets = api.user_timeline(screen_name = screen_name,count=200,max_id=oldest)\n",
    "\t\t\n",
    "\t\t#save most recent tweets\n",
    "\t\talltweets.extend(new_tweets)\n",
    "\t\t\n",
    "\t\t#update the id of the oldest tweet less one\n",
    "\t\toldest = alltweets[-1].id - 1\n",
    "\t\t\n",
    "\t\tprint \"...%s tweets downloaded so far\" % (len(alltweets))\n",
    "\t\n",
    "\t#transform the tweepy tweets into a 2D array that will populate the csv\t\n",
    "\touttweets = [[tweet.id_str, tweet.created_at, tweet.text.encode(\"utf-8\")] for tweet in alltweets]\n",
    "\t\n",
    "\t#write the csv\t\n",
    "\twith open('%s_tweets.csv' % screen_name, 'wb') as f:\n",
    "\t\twriter = csv.writer(f)\n",
    "\t\twriter.writerow([\"id\",\"created_at\",\"text\"])\n",
    "\t\twriter.writerows(outtweets)\n",
    "\t\n",
    "\tpass"
   ]
  },
  {
   "cell_type": "code",
   "execution_count": 33,
   "metadata": {},
   "outputs": [
    {
     "name": "stdout",
     "output_type": "stream",
     "text": [
      "getting tweets before 1016895949413773311\n",
      "...400 tweets downloaded so far\n",
      "getting tweets before 1013997546346303487\n",
      "...600 tweets downloaded so far\n",
      "getting tweets before 1009876751927955455\n",
      "...800 tweets downloaded so far\n",
      "getting tweets before 1004076533500252160\n",
      "...1000 tweets downloaded so far\n",
      "getting tweets before 1000090782920007679\n",
      "...1200 tweets downloaded so far\n",
      "getting tweets before 996234865996681215\n",
      "...1400 tweets downloaded so far\n",
      "getting tweets before 992934624765595647\n",
      "...1600 tweets downloaded so far\n",
      "getting tweets before 989581569156374530\n",
      "...1800 tweets downloaded so far\n",
      "getting tweets before 984598835145080831\n",
      "...2000 tweets downloaded so far\n",
      "getting tweets before 980251608100626431\n",
      "...2200 tweets downloaded so far\n",
      "getting tweets before 977259836139294721\n",
      "...2400 tweets downloaded so far\n",
      "getting tweets before 973999068765675525\n",
      "...2600 tweets downloaded so far\n",
      "getting tweets before 966782772676382720\n",
      "...2800 tweets downloaded so far\n",
      "getting tweets before 962871985880608768\n",
      "...2949 tweets downloaded so far\n",
      "getting tweets before 959517884375592964\n",
      "...2949 tweets downloaded so far\n"
     ]
    }
   ],
   "source": [
    "get_all_tweets('HQTriviaScribe')"
   ]
  },
  {
   "cell_type": "code",
   "execution_count": 90,
   "metadata": {},
   "outputs": [],
   "source": [
    "df = pd.read_csv('HQTriviaScribe_tweets.csv')"
   ]
  },
  {
   "cell_type": "code",
   "execution_count": 91,
   "metadata": {},
   "outputs": [
    {
     "name": "stdout",
     "output_type": "stream",
     "text": [
      "<class 'pandas.core.frame.DataFrame'>\n",
      "RangeIndex: 2949 entries, 0 to 2948\n",
      "Data columns (total 4 columns):\n",
      "id            2949 non-null int64\n",
      "created_at    2949 non-null object\n",
      "text          2949 non-null object\n",
      "tweet_list    2949 non-null object\n",
      "dtypes: int64(1), object(3)\n",
      "memory usage: 92.2+ KB\n",
      "None\n"
     ]
    }
   ],
   "source": [
    "df['tweet_list'] = [re.sub(r'.\\) ', '', tweet).split('\\n') for tweet in df['text']]\n",
    "print df.info()\n",
    "#\\xe2|\\x9c|\\x93"
   ]
  },
  {
   "cell_type": "code",
   "execution_count": 92,
   "metadata": {},
   "outputs": [
    {
     "name": "stdout",
     "output_type": "stream",
     "text": [
      "An 1800s scam involving watches led directly to the founding of which of these companies?\n",
      "                    id           created_at  \\\n",
      "0  1019753041464119296  2018-07-19 01:17:25   \n",
      "1  1019752695077404673  2018-07-19 01:16:03   \n",
      "2  1019752397919449089  2018-07-19 01:14:52   \n",
      "3  1019752231330041861  2018-07-19 01:14:12   \n",
      "4  1019752059174780929  2018-07-19 01:13:31   \n",
      "\n",
      "                                                text  \\\n",
      "0  An 1800s scam involving watches led directly t...   \n",
      "1  A character named Orc appears as a protagonist...   \n",
      "2  An original co-host of “20/20” was also the ed...   \n",
      "3  Which car company founder once held the world ...   \n",
      "4  Which of these polygons has the most sides?\\n1...   \n",
      "\n",
      "                                          tweet_list  correct_answer  \\\n",
      "0  [An 1800s scam involving watches led directly ...               0   \n",
      "1  [A character named Orc appears as a protagonis...               1   \n",
      "2  [An original co-host of “20/20” was also the e...               0   \n",
      "3  [Which car company founder once held the world...              -1   \n",
      "4  [Which of these polygons has the most sides?, ...               1   \n",
      "\n",
      "                                            question  \n",
      "0  An 1800s scam involving watches led directly t...  \n",
      "1  A character named Orc appears as a protagonist...  \n",
      "2  An original co-host of “20/20” was also the ed...  \n",
      "3  Which car company founder once held the world ...  \n",
      "4        Which of these polygons has the most sides?  \n"
     ]
    }
   ],
   "source": [
    "def label_answer(row):\n",
    "    if len(row['tweet_list']) != 4:\n",
    "        return -1\n",
    "    if '\\xe2\\x9c\\x93' in row['tweet_list'][1]:\n",
    "        return 0\n",
    "    elif '\\xe2\\x9c\\x93' in row['tweet_list'][2]:\n",
    "        return 1\n",
    "    else:\n",
    "        return 2\n",
    "    \n",
    "df['correct_answer'] = df.apply(lambda row: label_answer(row),axis=1)\n",
    "\n",
    "df['question'] = [tweet[0] for tweet in tweet_list]\n",
    "print df['question'][0]\n",
    "\n",
    "\n",
    "print df.head()\n",
    "\n",
    "#Problem: want to have correct answer in database. don't want to do for loops."
   ]
  },
  {
   "cell_type": "code",
   "execution_count": 111,
   "metadata": {},
   "outputs": [
    {
     "name": "stdout",
     "output_type": "stream",
     "text": [
      "Which car company founder once held the world land speed record for wheel-driven vehicles?\n",
      "1) Henry Ford ✓\n",
      "2) Ferru… https://t.co/m5Gb77cODO\n",
      "0\n"
     ]
    },
    {
     "name": "stderr",
     "output_type": "stream",
     "text": [
      "/Users/ketanagrawal/anaconda2/lib/python2.7/site-packages/ipykernel_launcher.py:4: SettingWithCopyWarning: \n",
      "A value is trying to be set on a copy of a slice from a DataFrame.\n",
      "Try using .loc[row_indexer,col_indexer] = value instead\n",
      "\n",
      "See the caveats in the documentation: http://pandas.pydata.org/pandas-docs/stable/indexing.html#indexing-view-versus-copy\n",
      "  after removing the cwd from sys.path.\n",
      "/Users/ketanagrawal/anaconda2/lib/python2.7/site-packages/ipykernel_launcher.py:5: SettingWithCopyWarning: \n",
      "A value is trying to be set on a copy of a slice from a DataFrame.\n",
      "Try using .loc[row_indexer,col_indexer] = value instead\n",
      "\n",
      "See the caveats in the documentation: http://pandas.pydata.org/pandas-docs/stable/indexing.html#indexing-view-versus-copy\n",
      "  \"\"\"\n",
      "/Users/ketanagrawal/anaconda2/lib/python2.7/site-packages/ipykernel_launcher.py:6: SettingWithCopyWarning: \n",
      "A value is trying to be set on a copy of a slice from a DataFrame.\n",
      "Try using .loc[row_indexer,col_indexer] = value instead\n",
      "\n",
      "See the caveats in the documentation: http://pandas.pydata.org/pandas-docs/stable/indexing.html#indexing-view-versus-copy\n",
      "  \n"
     ]
    }
   ],
   "source": [
    "print df['text'][3]\n",
    "df2 = df[df['correct_answer'] != -1]\n",
    "print df2['correct_answer'][10]\n",
    "df2['answer0'] = [re.sub(' \\xe2|\\x9c|\\x93', '', tl[1]) for tl in df2['tweet_list']]\n",
    "df2['answer1'] = [re.sub(' \\xe2|\\x9c|\\x93', '', tl[2]) for tl in df2['tweet_list']]\n",
    "df2['answer2'] = [re.sub(' \\xe2|\\x9c|\\x93', '', tl[3]) for tl in df2['tweet_list']]\n",
    "\n",
    "print df2.loc[0]"
   ]
  },
  {
   "cell_type": "code",
   "execution_count": 120,
   "metadata": {},
   "outputs": [
    {
     "name": "stdout",
     "output_type": "stream",
     "text": [
      "                    id  correct_answer  \\\n",
      "0  1019753041464119296               0   \n",
      "1  1019752695077404673               1   \n",
      "2  1019752397919449089               0   \n",
      "4  1019752059174780929               1   \n",
      "5  1019751848176218113               0   \n",
      "\n",
      "                                            question      answer0  \\\n",
      "0  An 1800s scam involving watches led directly t...        Sears   \n",
      "1  A character named Orc appears as a protagonist...  JRR Tolkien   \n",
      "2  An original co-host of “20/20” was also the ed...      Esquire   \n",
      "4        Which of these polygons has the most sides?  Trisdecagon   \n",
      "5  Sailors once gave avocados the nickname of “mi...       Butter   \n",
      "\n",
      "         answer1       answer2  \n",
      "0     Victorinox  Kay Jewelers  \n",
      "1  William Blake  Ray Bradbury  \n",
      "2    Vanity Fair          Time  \n",
      "4   Enneadecagon   Octadecagon  \n",
      "5          Jewel           Nut  \n",
      "Sailors once gave avocados the nickname of “midshipman’s” what?\n"
     ]
    }
   ],
   "source": [
    "#df2.loc[0]\n",
    "#df2.drop(['text', 'tweet_list', 'created_at'], axis=1, inplace=True)\n",
    "print df2.head()\n",
    "print df2['question'][5]\n",
    "df2.to_csv('HQquestions_clean.csv')"
   ]
  },
  {
   "cell_type": "code",
   "execution_count": 2,
   "metadata": {},
   "outputs": [],
   "source": [
    "my_api_key, my_cse_id = pickle.load(open('api_key_cse_id.p', 'rb'))\n",
    "#to use Google Search custom API, you'll need your own API key and CSE ID.\n",
    "\n",
    "def process(res_items):\n",
    "    text_list = [re.sub(r'\\n|,|:|\\||\\xa0|\\s*\\.+', '', item['title'] + ' ' + item['snippet']).lower() for item in res_items]\n",
    "    return ' '.join(text_list)\n",
    "\n",
    "def google_search(search_term, **kwargs):\n",
    "    service = build(\"customsearch\", \"v1\", developerKey=my_api_key)\n",
    "    res = service.cse().list(q=search_term, cx=my_cse_id, **kwargs).execute()\n",
    "    return process(res['items']), int(res['searchInformation']['formattedTotalResults'].replace(',', ''))\n",
    "\n",
    "def print_results(results):\n",
    "    for result in results:\n",
    "        for key in result:\n",
    "            print '%s: %s' % (key, result[key])\n",
    "        print '\\n\\n'"
   ]
  },
  {
   "cell_type": "code",
   "execution_count": 3,
   "metadata": {
    "scrolled": true
   },
   "outputs": [
    {
     "name": "stdout",
     "output_type": "stream",
     "text": [
      "(u\"dog - wikipedia the domestic dog is a member of the genus canis (canines) which forms part of the wolf-like canids and is the most widely abundant terrestrial carnivore complete guide to caring for dogs  dog breed information dog your dog's online owners manual featuring articles about breed information dog selection training grooming and care for dogs and puppies funny dogs who don't want to take a bath - try not to laugh dec 10 2016 funny dog videos of funny dogs who don't want to take a bath or dogs and puppies who hate baths try not to laugh challenge - try not to laugh dog dog breeds adoption bringing a dog home and care everything you need to know about dogs including dog breeds how to adopt a dog bringing a dog home dog health and care and more! dogs dogs the adorable domestic pet beloved by millions the dog is one of the most popular pets in the world -- it is of course commonly referred to as \\u201cman's best your d&d game doesn't have enough dogs in it - polygon 11 hours ago ahead of gen con 2018 one kickstarter has a baker's dozen of dog miniatures for your next d&d campaign welcome to animal adventures why did amazon have dog photos on error pages [video] 1 day ago this year's prime day may be remembered for the dogs not the deals amazon's third annual prime day a 36-hour sales event for prime users 'dogs in food' is the instagram account you didn't know you 1 day ago when you think of dogs and food you think of all the wonderfully hilarious disasters that involve our furry four-legged friend we want to present eating too many hot dogs is linked to mania study finds - sfgate 1 day ago a new study by scientists at johns hopkins school of medicine has linked eating too many hot dogs and salamis with the onset of mania do dogs really prefer baby talk? you might be surprised may 31 2018 few of us can resist using baby talk with our dogs next time someone makes fun of you for it you can tell them that science is on your side\", 321000000)\n"
     ]
    }
   ],
   "source": [
    "print google_search('dogs', num=10)"
   ]
  },
  {
   "cell_type": "code",
   "execution_count": 84,
   "metadata": {},
   "outputs": [],
   "source": [
    "#Save for later: switch control\n",
    "\n",
    "keyboard = Controller()\n",
    "keyboard.press(' ')\n",
    "keyboard.release(' ')"
   ]
  },
  {
   "cell_type": "code",
   "execution_count": null,
   "metadata": {},
   "outputs": [],
   "source": [
    "''' coordinates for OCR text extraction from Reflector 3 window mirroring iPhone at \"Fill Screen\" scale,\n",
    "positioned at (0, 0) on 13 inch MBA '''\n",
    "\n",
    "question_coords = (55, 253, 376, 357)\n",
    "\n",
    "answerX1, answerX2 = 75, 355\n",
    "answerY1, answerY2 = 390, 415\n",
    "offset = 63\n",
    "answers_coords = [(answerX1, answerY1, answerX2, answerY2), \n",
    "                  (answerX1, answerY1 + offset, answerX2, answerY2 + offset),\n",
    "                  (answerX1, answerY1 + 2*offset, answerX2, answerY2 + 2*offset)]\n",
    "\n",
    "def parseQuestionAnswer():\n",
    "    question_img=ImageGrab.grab(bbox=question_coords) # X1,Y1,X2,Y2\n",
    "    answer_imgs = [ImageGrab.grab(bbox=coords) for coords in answers_coords]\n",
    "    question = pytesseract.image_to_string(question_img).replace('\\n', ' ').lower()\n",
    "    answers = [pytesseract.image_to_string(img).lower() for img in answer_imgs]\n",
    "    return question, answers"
   ]
  },
  {
   "cell_type": "code",
   "execution_count": 13,
   "metadata": {},
   "outputs": [],
   "source": [
    "#every time a new question appears: \n",
    "\n",
    "'''\n",
    "1. raw question\n",
    "2. - 4. question + answers (no quotes)\n",
    "'''\n",
    "#For testing purposes\n",
    "# question = 'Which of these is a species of snake?'\n",
    "# answers = ['Ball python', 'Marbled salamander', 'Axolotl']\n",
    "question = 'Rapa Nui is the indigenous name of what location?'.lower()\n",
    "answers = [answer.lower() for answer in ['Greenland', 'Mount Everest', 'Easter Island']]\n",
    "\n",
    "\n",
    "def getBestAnswer():\n",
    "    #question, answers = parseQuestionAnswer()\n",
    "    q_search = google_search(question, num=10)\n",
    "    combine_queries = ['%s \\\"%s\\\"' % (question, answer) for answer in answers]\n",
    "    combine_searches = [google_search(query, num=10) for query in combine_queries]\n",
    "    answerCounts = [q_search[0].count(answer) for answer in answers]\n",
    "    print answerCounts\n",
    "    numSearchResults = [search[1] for search in combine_searches]\n",
    "    print numSearchResults"
   ]
  },
  {
   "cell_type": "code",
   "execution_count": 14,
   "metadata": {},
   "outputs": [
    {
     "name": "stdout",
     "output_type": "stream",
     "text": [
      "[0, 0, 14]\n",
      "[24600, 4500, 23900]\n",
      "3.50920295715\n"
     ]
    }
   ],
   "source": [
    "start = time.time()\n",
    "getBestAnswer()\n",
    "end = time.time()\n",
    "\n",
    "print end - start"
   ]
  },
  {
   "cell_type": "code",
   "execution_count": 6,
   "metadata": {},
   "outputs": [
    {
     "ename": "KeyboardInterrupt",
     "evalue": "",
     "output_type": "error",
     "traceback": [
      "\u001b[0;31m---------------------------------------------------------------------------\u001b[0m",
      "\u001b[0;31mKeyboardInterrupt\u001b[0m                         Traceback (most recent call last)",
      "\u001b[0;32m<ipython-input-6-a42d3afc0426>\u001b[0m in \u001b[0;36m<module>\u001b[0;34m()\u001b[0m\n\u001b[1;32m      1\u001b[0m \u001b[0;32mwhile\u001b[0m \u001b[0mTrue\u001b[0m\u001b[0;34m:\u001b[0m\u001b[0;34m\u001b[0m\u001b[0m\n\u001b[0;32m----> 2\u001b[0;31m     \u001b[0mraw_input\u001b[0m\u001b[0;34m(\u001b[0m\u001b[0;34m'press any key to grab answer:'\u001b[0m\u001b[0;34m)\u001b[0m\u001b[0;34m\u001b[0m\u001b[0m\n\u001b[0m\u001b[1;32m      3\u001b[0m     \u001b[0mgetBestAnswer\u001b[0m\u001b[0;34m(\u001b[0m\u001b[0;34m)\u001b[0m\u001b[0;34m\u001b[0m\u001b[0m\n",
      "\u001b[0;32m/Users/ketanagrawal/anaconda2/lib/python2.7/site-packages/ipykernel/kernelbase.pyc\u001b[0m in \u001b[0;36mraw_input\u001b[0;34m(self, prompt)\u001b[0m\n\u001b[1;32m    702\u001b[0m             \u001b[0mself\u001b[0m\u001b[0;34m.\u001b[0m\u001b[0m_parent_ident\u001b[0m\u001b[0;34m,\u001b[0m\u001b[0;34m\u001b[0m\u001b[0m\n\u001b[1;32m    703\u001b[0m             \u001b[0mself\u001b[0m\u001b[0;34m.\u001b[0m\u001b[0m_parent_header\u001b[0m\u001b[0;34m,\u001b[0m\u001b[0;34m\u001b[0m\u001b[0m\n\u001b[0;32m--> 704\u001b[0;31m             \u001b[0mpassword\u001b[0m\u001b[0;34m=\u001b[0m\u001b[0mFalse\u001b[0m\u001b[0;34m,\u001b[0m\u001b[0;34m\u001b[0m\u001b[0m\n\u001b[0m\u001b[1;32m    705\u001b[0m         )\n\u001b[1;32m    706\u001b[0m \u001b[0;34m\u001b[0m\u001b[0m\n",
      "\u001b[0;32m/Users/ketanagrawal/anaconda2/lib/python2.7/site-packages/ipykernel/kernelbase.pyc\u001b[0m in \u001b[0;36m_input_request\u001b[0;34m(self, prompt, ident, parent, password)\u001b[0m\n\u001b[1;32m    732\u001b[0m             \u001b[0;32mexcept\u001b[0m \u001b[0mKeyboardInterrupt\u001b[0m\u001b[0;34m:\u001b[0m\u001b[0;34m\u001b[0m\u001b[0m\n\u001b[1;32m    733\u001b[0m                 \u001b[0;31m# re-raise KeyboardInterrupt, to truncate traceback\u001b[0m\u001b[0;34m\u001b[0m\u001b[0;34m\u001b[0m\u001b[0m\n\u001b[0;32m--> 734\u001b[0;31m                 \u001b[0;32mraise\u001b[0m \u001b[0mKeyboardInterrupt\u001b[0m\u001b[0;34m\u001b[0m\u001b[0m\n\u001b[0m\u001b[1;32m    735\u001b[0m             \u001b[0;32melse\u001b[0m\u001b[0;34m:\u001b[0m\u001b[0;34m\u001b[0m\u001b[0m\n\u001b[1;32m    736\u001b[0m                 \u001b[0;32mbreak\u001b[0m\u001b[0;34m\u001b[0m\u001b[0m\n",
      "\u001b[0;31mKeyboardInterrupt\u001b[0m: "
     ]
    }
   ],
   "source": [
    "while True:\n",
    "    raw_input('press any key to grab answer:')\n",
    "    getBestAnswer()"
   ]
  },
  {
   "cell_type": "code",
   "execution_count": null,
   "metadata": {},
   "outputs": [],
   "source": []
  }
 ],
 "metadata": {
  "kernelspec": {
   "display_name": "Python 2",
   "language": "python",
   "name": "python2"
  },
  "language_info": {
   "codemirror_mode": {
    "name": "ipython",
    "version": 2
   },
   "file_extension": ".py",
   "mimetype": "text/x-python",
   "name": "python",
   "nbconvert_exporter": "python",
   "pygments_lexer": "ipython2",
   "version": "2.7.14"
  }
 },
 "nbformat": 4,
 "nbformat_minor": 2
}
