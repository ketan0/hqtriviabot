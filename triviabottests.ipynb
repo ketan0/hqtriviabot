{
 "cells": [
  {
   "cell_type": "code",
   "execution_count": 82,
   "metadata": {},
   "outputs": [],
   "source": [
    "try:\n",
    "    import Image\n",
    "except ImportError:\n",
    "    from PIL import Image\n",
    "import pytesseract\n",
    "import webbrowser\n",
    "import pyscreenshot as ImageGrab\n",
    "from googleapiclient.discovery import build\n",
    "import pprint\n",
    "import cPickle as pickle\n",
    "from pynput.keyboard import Key, Controller\n",
    "import time\n",
    "import re"
   ]
  },
  {
   "cell_type": "code",
   "execution_count": 152,
   "metadata": {},
   "outputs": [],
   "source": [
    "my_api_key, my_cse_id = pickle.load(open('api_key_cse_id.p', 'rb'))\n",
    "#to use Google Search custom API, you'll need your own API key and CSE ID.\n",
    "\n",
    "def process(res_items):\n",
    "    text_list = [re.sub(r'\\n|,|:|\\||\\xa0|\\s*\\.+', '', item['title'] + ' ' + item['snippet']).lower() for item in res_items]\n",
    "    return ' '.join(text_list)\n",
    "\n",
    "def google_search(search_term, **kwargs):\n",
    "    service = build(\"customsearch\", \"v1\", developerKey=my_api_key)\n",
    "    res = service.cse().list(q=search_term, cx=my_cse_id, **kwargs).execute()\n",
    "    return process(res['items']), int(res['searchInformation']['formattedTotalResults'].replace(',', ''))\n",
    "\n",
    "def print_results(results):\n",
    "    for result in results:\n",
    "        for key in result:\n",
    "            print '%s: %s' % (key, result[key])\n",
    "        print '\\n\\n'"
   ]
  },
  {
   "cell_type": "code",
   "execution_count": 154,
   "metadata": {
    "scrolled": true
   },
   "outputs": [
    {
     "name": "stdout",
     "output_type": "stream",
     "text": [
      "(u\"dog - wikipedia the domestic dog is a member of the genus canis (canines) which forms part of the wolf-like canids and is the most widely abundant terrestrial carnivore complete guide to caring for dogs  dog breed information dog your dog's online owners manual featuring articles about breed information dog selection training grooming and care for dogs and puppies funny dogs who don't want to take a bath - try not to laugh dec 10 2016 funny dog videos of funny dogs who don't want to take a bath or dogs and puppies who hate baths try not to laugh challenge - try not to laugh dog dog breeds adoption bringing a dog home and care everything you need to know about dogs including dog breeds how to adopt a dog bringing a dog home dog health and care and more! dogs dogs the adorable domestic pet beloved by millions the dog is one of the most popular pets in the world -- it is of course commonly referred to as \\u201cman's best do dogs really prefer baby talk? you might be surprised may 31 2018 few of us can resist using baby talk with our dogs next time someone makes fun of you for it you can tell them that science is on your side meet the dogs of amazon who helped soften the blow while the 1 day ago amazon prime day is one of the most highly anticipated consumer holidays of the year it's a one-day-only global internet shopping bonanza the evolutionary history of dogs in the americas  science jul 6 2018 dogs have been present in north america for at least 9000 years to better understand how present-day breeds and populations reflect their the yorkie's dominance we analyzed every dog registration in feb 8 2018 new york's dogs are as varied as its people and their numbers can be just as telling they can be a cipher for understanding gentrification and dogs spread across the americas alongside humans then they got 6 days ago when people traversed across the land bridge connecting siberia to north america dogs trotted by their sides canines and their human\", 547000000)\n"
     ]
    }
   ],
   "source": [
    "print google_search('dogs', num=10)"
   ]
  },
  {
   "cell_type": "code",
   "execution_count": 84,
   "metadata": {},
   "outputs": [],
   "source": [
    "#Save for later: switch control\n",
    "\n",
    "keyboard = Controller()\n",
    "keyboard.press(' ')\n",
    "keyboard.release(' ')"
   ]
  },
  {
   "cell_type": "code",
   "execution_count": 115,
   "metadata": {},
   "outputs": [],
   "source": [
    "''' coordinates for OCR text extraction from Reflector 3 window mirroring iPhone at \"Fill Screen\" scale,\n",
    "positioned at (0, 0) on 13 inch MBA '''\n",
    "\n",
    "question_coords = (55, 253, 376, 357)\n",
    "\n",
    "answerX1, answerX2 = 75, 355\n",
    "answerY1, answerY2 = 390, 415\n",
    "offset = 63\n",
    "answers_coords = [(answerX1, answerY1, answerX2, answerY2), \n",
    "                  (answerX1, answerY1 + offset, answerX2, answerY2 + offset),\n",
    "                  (answerX1, answerY1 + 2*offset, answerX2, answerY2 + 2*offset)]\n",
    "\n",
    "def parseQuestionAnswer():\n",
    "    question_img=ImageGrab.grab(bbox=question_coords) # X1,Y1,X2,Y2\n",
    "    answer_imgs = [ImageGrab.grab(bbox=coords) for coords in answers_coords]\n",
    "    question = pytesseract.image_to_string(question_img).replace('\\n', ' ').lower()\n",
    "    answers = [pytesseract.image_to_string(img).lower() for img in answer_imgs]\n",
    "    return question, answers"
   ]
  },
  {
   "cell_type": "code",
   "execution_count": 161,
   "metadata": {},
   "outputs": [],
   "source": [
    "#every time a new question appears: \n",
    "\n",
    "'''\n",
    "1. raw question\n",
    "2. - 4. question + answers (no quotes)\n",
    "'''\n",
    "\n",
    "def getBestAnswer():\n",
    "    #question, answers = parseQuestionAnswer()\n",
    "    queries = [question + answer for answer in answers]\n",
    "    queries.append(question)\n",
    "    searches = [google_search(query, num=10) for query in queries]\n",
    "    for search in searches: #search is a tuple.\n",
    "        print 'Num results: %s' % (search[1])\n",
    "    numSearchResults = [search[1] for search in searches[:-1]]\n",
    "    print numSearchResults\n",
    "    print answers[numSearchResults.index(max(numSearchResults))]"
   ]
  },
  {
   "cell_type": "code",
   "execution_count": 162,
   "metadata": {},
   "outputs": [
    {
     "name": "stdout",
     "output_type": "stream",
     "text": [
      "Num results: 103000\n",
      "Num results: 13200\n",
      "Num results: 36800\n",
      "Num results: 8250000\n",
      "[103000, 13200, 36800]\n",
      "Ball python\n",
      "3.1768860817\n"
     ]
    }
   ],
   "source": [
    "start = time.time()\n",
    "getBestAnswer()\n",
    "end = time.time()\n",
    "\n",
    "print end - start"
   ]
  },
  {
   "cell_type": "code",
   "execution_count": null,
   "metadata": {},
   "outputs": [],
   "source": []
  }
 ],
 "metadata": {
  "kernelspec": {
   "display_name": "Python 2",
   "language": "python",
   "name": "python2"
  },
  "language_info": {
   "codemirror_mode": {
    "name": "ipython",
    "version": 2
   },
   "file_extension": ".py",
   "mimetype": "text/x-python",
   "name": "python",
   "nbconvert_exporter": "python",
   "pygments_lexer": "ipython2",
   "version": "2.7.14"
  }
 },
 "nbformat": 4,
 "nbformat_minor": 2
}
