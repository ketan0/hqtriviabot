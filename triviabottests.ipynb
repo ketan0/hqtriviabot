{
 "cells": [
  {
   "cell_type": "code",
   "execution_count": 1,
   "metadata": {},
   "outputs": [],
   "source": [
    "try:\n",
    "    import Image\n",
    "except ImportError:\n",
    "    from PIL import Image\n",
    "import pytesseract\n",
    "import webbrowser\n",
    "import pyscreenshot as ImageGrab\n",
    "from googleapiclient.discovery import build\n",
    "import pprint\n",
    "import cPickle as pickle\n",
    "from pynput.keyboard import Key, Controller\n",
    "import time\n",
    "import re"
   ]
  },
  {
   "cell_type": "code",
   "execution_count": 2,
   "metadata": {},
   "outputs": [],
   "source": [
    "my_api_key, my_cse_id = pickle.load(open('api_key_cse_id.p', 'rb'))\n",
    "#to use Google Search custom API, you'll need your own API key and CSE ID.\n",
    "\n",
    "def process(res_items):\n",
    "    text_list = [re.sub(r'\\n|,|:|\\||\\xa0|\\s*\\.+', '', item['title'] + ' ' + item['snippet']).lower() for item in res_items]\n",
    "    return ' '.join(text_list)\n",
    "\n",
    "def google_search(search_term, **kwargs):\n",
    "    service = build(\"customsearch\", \"v1\", developerKey=my_api_key)\n",
    "    res = service.cse().list(q=search_term, cx=my_cse_id, **kwargs).execute()\n",
    "    return process(res['items']), int(res['searchInformation']['formattedTotalResults'].replace(',', ''))\n",
    "\n",
    "def print_results(results):\n",
    "    for result in results:\n",
    "        for key in result:\n",
    "            print '%s: %s' % (key, result[key])\n",
    "        print '\\n\\n'"
   ]
  },
  {
   "cell_type": "code",
   "execution_count": 3,
   "metadata": {
    "scrolled": true
   },
   "outputs": [
    {
     "name": "stdout",
     "output_type": "stream",
     "text": [
      "(u\"dog - wikipedia the domestic dog is a member of the genus canis (canines) which forms part of the wolf-like canids and is the most widely abundant terrestrial carnivore complete guide to caring for dogs  dog breed information dog your dog's online owners manual featuring articles about breed information dog selection training grooming and care for dogs and puppies funny dogs who don't want to take a bath - try not to laugh dec 10 2016 funny dog videos of funny dogs who don't want to take a bath or dogs and puppies who hate baths try not to laugh challenge - try not to laugh dog dog breeds adoption bringing a dog home and care everything you need to know about dogs including dog breeds how to adopt a dog bringing a dog home dog health and care and more! dogs dogs the adorable domestic pet beloved by millions the dog is one of the most popular pets in the world -- it is of course commonly referred to as \\u201cman's best your d&d game doesn't have enough dogs in it - polygon 11 hours ago ahead of gen con 2018 one kickstarter has a baker's dozen of dog miniatures for your next d&d campaign welcome to animal adventures why did amazon have dog photos on error pages [video] 1 day ago this year's prime day may be remembered for the dogs not the deals amazon's third annual prime day a 36-hour sales event for prime users 'dogs in food' is the instagram account you didn't know you 1 day ago when you think of dogs and food you think of all the wonderfully hilarious disasters that involve our furry four-legged friend we want to present eating too many hot dogs is linked to mania study finds - sfgate 1 day ago a new study by scientists at johns hopkins school of medicine has linked eating too many hot dogs and salamis with the onset of mania do dogs really prefer baby talk? you might be surprised may 31 2018 few of us can resist using baby talk with our dogs next time someone makes fun of you for it you can tell them that science is on your side\", 321000000)\n"
     ]
    }
   ],
   "source": [
    "print google_search('dogs', num=10)"
   ]
  },
  {
   "cell_type": "code",
   "execution_count": 84,
   "metadata": {},
   "outputs": [],
   "source": [
    "#Save for later: switch control\n",
    "\n",
    "keyboard = Controller()\n",
    "keyboard.press(' ')\n",
    "keyboard.release(' ')"
   ]
  },
  {
   "cell_type": "code",
   "execution_count": null,
   "metadata": {},
   "outputs": [],
   "source": [
    "''' coordinates for OCR text extraction from Reflector 3 window mirroring iPhone at \"Fill Screen\" scale,\n",
    "positioned at (0, 0) on 13 inch MBA '''\n",
    "\n",
    "question_coords = (55, 253, 376, 357)\n",
    "\n",
    "answerX1, answerX2 = 75, 355\n",
    "answerY1, answerY2 = 390, 415\n",
    "offset = 63\n",
    "answers_coords = [(answerX1, answerY1, answerX2, answerY2), \n",
    "                  (answerX1, answerY1 + offset, answerX2, answerY2 + offset),\n",
    "                  (answerX1, answerY1 + 2*offset, answerX2, answerY2 + 2*offset)]\n",
    "\n",
    "def parseQuestionAnswer():\n",
    "    question_img=ImageGrab.grab(bbox=question_coords) # X1,Y1,X2,Y2\n",
    "    answer_imgs = [ImageGrab.grab(bbox=coords) for coords in answers_coords]\n",
    "    question = pytesseract.image_to_string(question_img).replace('\\n', ' ').lower()\n",
    "    answers = [pytesseract.image_to_string(img).lower() for img in answer_imgs]\n",
    "    return question, answers"
   ]
  },
  {
   "cell_type": "code",
   "execution_count": 9,
   "metadata": {},
   "outputs": [],
   "source": [
    "#every time a new question appears: \n",
    "\n",
    "'''\n",
    "1. raw question\n",
    "2. - 4. question + answers (no quotes)\n",
    "'''\n",
    "#For testing purposes\n",
    "question = 'Which of these is a species of snake?'\n",
    "answers = ['Ball python', 'Marbled salamander', 'Axolotl']\n",
    "\n",
    "def getBestAnswer():\n",
    "    #question, answers = parseQuestionAnswer()\n",
    "    q_search = google_search(question, num=10)\n",
    "    combine_queries = ['%s \\\"%s\\\"' % (question, answer) for answer in answers]\n",
    "    combine_searches = [google_search(query, num=10) for query in combine_queries]\n",
    "    answerCounts = [q_search[0].count(answer) for answer in answers]\n",
    "    numSearchResults = [search[1] for search in combine_searches]"
   ]
  },
  {
   "cell_type": "code",
   "execution_count": 10,
   "metadata": {},
   "outputs": [
    {
     "name": "stdout",
     "output_type": "stream",
     "text": [
      "['Which of these is a species of snake? \"Ball python\"', 'Which of these is a species of snake? \"Marbled salamander\"', 'Which of these is a species of snake? \"Axolotl\"']\n",
      "Ball python: 62300\n",
      "Marbled salamander: 3380\n",
      "Axolotl: 34200\n",
      "best answer: Ball python\n",
      "worst answer: Marbled salamander\n",
      "3.21820902824\n"
     ]
    }
   ],
   "source": [
    "start = time.time()\n",
    "getBestAnswer()\n",
    "end = time.time()\n",
    "\n",
    "print end - start"
   ]
  },
  {
   "cell_type": "code",
   "execution_count": 6,
   "metadata": {},
   "outputs": [
    {
     "ename": "KeyboardInterrupt",
     "evalue": "",
     "output_type": "error",
     "traceback": [
      "\u001b[0;31m---------------------------------------------------------------------------\u001b[0m",
      "\u001b[0;31mKeyboardInterrupt\u001b[0m                         Traceback (most recent call last)",
      "\u001b[0;32m<ipython-input-6-a42d3afc0426>\u001b[0m in \u001b[0;36m<module>\u001b[0;34m()\u001b[0m\n\u001b[1;32m      1\u001b[0m \u001b[0;32mwhile\u001b[0m \u001b[0mTrue\u001b[0m\u001b[0;34m:\u001b[0m\u001b[0;34m\u001b[0m\u001b[0m\n\u001b[0;32m----> 2\u001b[0;31m     \u001b[0mraw_input\u001b[0m\u001b[0;34m(\u001b[0m\u001b[0;34m'press any key to grab answer:'\u001b[0m\u001b[0;34m)\u001b[0m\u001b[0;34m\u001b[0m\u001b[0m\n\u001b[0m\u001b[1;32m      3\u001b[0m     \u001b[0mgetBestAnswer\u001b[0m\u001b[0;34m(\u001b[0m\u001b[0;34m)\u001b[0m\u001b[0;34m\u001b[0m\u001b[0m\n",
      "\u001b[0;32m/Users/ketanagrawal/anaconda2/lib/python2.7/site-packages/ipykernel/kernelbase.pyc\u001b[0m in \u001b[0;36mraw_input\u001b[0;34m(self, prompt)\u001b[0m\n\u001b[1;32m    702\u001b[0m             \u001b[0mself\u001b[0m\u001b[0;34m.\u001b[0m\u001b[0m_parent_ident\u001b[0m\u001b[0;34m,\u001b[0m\u001b[0;34m\u001b[0m\u001b[0m\n\u001b[1;32m    703\u001b[0m             \u001b[0mself\u001b[0m\u001b[0;34m.\u001b[0m\u001b[0m_parent_header\u001b[0m\u001b[0;34m,\u001b[0m\u001b[0;34m\u001b[0m\u001b[0m\n\u001b[0;32m--> 704\u001b[0;31m             \u001b[0mpassword\u001b[0m\u001b[0;34m=\u001b[0m\u001b[0mFalse\u001b[0m\u001b[0;34m,\u001b[0m\u001b[0;34m\u001b[0m\u001b[0m\n\u001b[0m\u001b[1;32m    705\u001b[0m         )\n\u001b[1;32m    706\u001b[0m \u001b[0;34m\u001b[0m\u001b[0m\n",
      "\u001b[0;32m/Users/ketanagrawal/anaconda2/lib/python2.7/site-packages/ipykernel/kernelbase.pyc\u001b[0m in \u001b[0;36m_input_request\u001b[0;34m(self, prompt, ident, parent, password)\u001b[0m\n\u001b[1;32m    732\u001b[0m             \u001b[0;32mexcept\u001b[0m \u001b[0mKeyboardInterrupt\u001b[0m\u001b[0;34m:\u001b[0m\u001b[0;34m\u001b[0m\u001b[0m\n\u001b[1;32m    733\u001b[0m                 \u001b[0;31m# re-raise KeyboardInterrupt, to truncate traceback\u001b[0m\u001b[0;34m\u001b[0m\u001b[0;34m\u001b[0m\u001b[0m\n\u001b[0;32m--> 734\u001b[0;31m                 \u001b[0;32mraise\u001b[0m \u001b[0mKeyboardInterrupt\u001b[0m\u001b[0;34m\u001b[0m\u001b[0m\n\u001b[0m\u001b[1;32m    735\u001b[0m             \u001b[0;32melse\u001b[0m\u001b[0;34m:\u001b[0m\u001b[0;34m\u001b[0m\u001b[0m\n\u001b[1;32m    736\u001b[0m                 \u001b[0;32mbreak\u001b[0m\u001b[0;34m\u001b[0m\u001b[0m\n",
      "\u001b[0;31mKeyboardInterrupt\u001b[0m: "
     ]
    }
   ],
   "source": [
    "while True:\n",
    "    raw_input('press any key to grab answer:')\n",
    "    getBestAnswer()"
   ]
  },
  {
   "cell_type": "code",
   "execution_count": null,
   "metadata": {},
   "outputs": [],
   "source": []
  }
 ],
 "metadata": {
  "kernelspec": {
   "display_name": "Python 2",
   "language": "python",
   "name": "python2"
  },
  "language_info": {
   "codemirror_mode": {
    "name": "ipython",
    "version": 2
   },
   "file_extension": ".py",
   "mimetype": "text/x-python",
   "name": "python",
   "nbconvert_exporter": "python",
   "pygments_lexer": "ipython2",
   "version": "2.7.14"
  }
 },
 "nbformat": 4,
 "nbformat_minor": 2
}
